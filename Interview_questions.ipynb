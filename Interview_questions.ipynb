{
  "nbformat": 4,
  "nbformat_minor": 0,
  "metadata": {
    "colab": {
      "provenance": []
    },
    "kernelspec": {
      "name": "python3",
      "display_name": "Python 3"
    },
    "language_info": {
      "name": "python"
    }
  },
  "cells": [
    {
      "cell_type": "markdown",
      "source": [
        "Practice questions for interview\n"
      ],
      "metadata": {
        "id": "2OpitqJLLZqd"
      }
    },
    {
      "cell_type": "code",
      "execution_count": 4,
      "metadata": {
        "colab": {
          "base_uri": "https://localhost:8080/"
        },
        "id": "NNLbSrynLRoY",
        "outputId": "4637033a-9c8a-4fd9-a697-729f385dfa97"
      },
      "outputs": [
        {
          "output_type": "stream",
          "name": "stdout",
          "text": [
            "7\n"
          ]
        }
      ],
      "source": [
        "# Counting the number of vowels in a string\n",
        "def count_vowels(string):\n",
        "    vowels = 'aeiouAEIOU'\n",
        "    count = 0\n",
        "    for char in string:\n",
        "        if char in vowels:\n",
        "            count += 1\n",
        "    return count\n",
        "text = \"I want to be a pilot\"\n",
        "vowel_count = count_vowels(text)\n",
        "print(vowel_count)"
      ]
    },
    {
      "cell_type": "code",
      "source": [
        "# Removing all punctuation from a text\n",
        "def remove_punctuation(text):\n",
        "    punctuation = \"\"\"!\"#$%&'()*+,-./:;<=>?@[\\\\]^_`{|}~\"\"\"\n",
        "    return ''.join(char for char in text if char not in punctuation)\n",
        "\n",
        "text = \"Hello, how is life treating you?\"\n",
        "clean_text = remove_punctuation(text)\n",
        "print(clean_text)"
      ],
      "metadata": {
        "colab": {
          "base_uri": "https://localhost:8080/"
        },
        "id": "RMv_bHI0L8rw",
        "outputId": "38e180cb-f22c-4de1-f318-574233ccca68"
      },
      "execution_count": 5,
      "outputs": [
        {
          "output_type": "stream",
          "name": "stdout",
          "text": [
            "Hello how is life treating you\n"
          ]
        }
      ]
    },
    {
      "cell_type": "code",
      "source": [
        "#Finding the most frequent word in a statement\n",
        "def most_frequent_word(text):\n",
        "    words = text.split()\n",
        "    word_count = {}\n",
        "    for word in words:\n",
        "        if word in word_count:\n",
        "            word_count[word] += 1\n",
        "        else:\n",
        "            word_count[word] = 1\n",
        "    return max(word_count, key=word_count.get)\n",
        "\n",
        "text = \"Life is what you make it. Life is not a bed of roses.\"\n",
        "frequent_word = most_frequent_word(text)\n",
        "print(frequent_word)"
      ],
      "metadata": {
        "colab": {
          "base_uri": "https://localhost:8080/"
        },
        "id": "2uPgq8dONBR_",
        "outputId": "c58460a2-1fbc-4c9e-dc45-3a5eb000e37e"
      },
      "execution_count": 9,
      "outputs": [
        {
          "output_type": "stream",
          "name": "stdout",
          "text": [
            "Life\n"
          ]
        }
      ]
    },
    {
      "cell_type": "code",
      "source": [
        "# How do you remove stopwords from a python string?\n",
        "def remove_stopwords(text, stopwords):\n",
        "    words = text.split()\n",
        "    return ' '.join(word for word in words if word not in stopwords)\n",
        "\n",
        "stopwords = {'the', 'is', 'in', 'and', 'to', 'with'}\n",
        "text = \"This is the example text with some stopwords\"\n",
        "clean_text = remove_stopwords(text, stopwords)\n",
        "print(clean_text)"
      ],
      "metadata": {
        "colab": {
          "base_uri": "https://localhost:8080/"
        },
        "id": "gtVXz-_pOB1i",
        "outputId": "769e4143-82a4-4a3b-87f8-9933e401c8bd"
      },
      "execution_count": 11,
      "outputs": [
        {
          "output_type": "stream",
          "name": "stdout",
          "text": [
            "This example text some stopwords\n"
          ]
        }
      ]
    },
    {
      "cell_type": "code",
      "source": [
        "# Tokenizing a string into words in python\n",
        "def tokenize_words(text):\n",
        "    return text.split()\n",
        "\n",
        "text = \"Hello world! How are you doing today?\"\n",
        "words = tokenize_words(text)\n",
        "print(words)"
      ],
      "metadata": {
        "colab": {
          "base_uri": "https://localhost:8080/"
        },
        "id": "81oGVSV-OznH",
        "outputId": "df1af871-7036-4c69-8054-cd3e12c6fe47"
      },
      "execution_count": 12,
      "outputs": [
        {
          "output_type": "stream",
          "name": "stdout",
          "text": [
            "['Hello', 'world!', 'How', 'are', 'you', 'doing', 'today?']\n"
          ]
        }
      ]
    },
    {
      "cell_type": "code",
      "source": [
        "# Finding the longest word in a string in python\n",
        "def find_longest_word(text):\n",
        "    words= text.split()\n",
        "    max_words= max(words, key=len)\n",
        "    return max_words\n",
        "\n",
        "text= \"I am trying this for the first time\"\n",
        "long_word= find_longest_word(text)\n",
        "print(long_word)"
      ],
      "metadata": {
        "colab": {
          "base_uri": "https://localhost:8080/"
        },
        "id": "WXSMEjwqQpDh",
        "outputId": "6633901d-225f-4e4e-d09d-d7696ede1389"
      },
      "execution_count": 14,
      "outputs": [
        {
          "output_type": "stream",
          "name": "stdout",
          "text": [
            "trying\n"
          ]
        }
      ]
    }
  ]
}